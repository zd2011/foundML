{
  "cells": [
    {
      "cell_type": "markdown",
      "metadata": {
        "id": "view-in-github",
        "colab_type": "text"
      },
      "source": [
        "<a href=\"https://colab.research.google.com/github/zd2011/foundML/blob/main/lab11.ipynb\" target=\"_parent\"><img src=\"https://colab.research.google.com/assets/colab-badge.svg\" alt=\"Open In Colab\"/></a>"
      ]
    },
    {
      "cell_type": "markdown",
      "metadata": {
        "id": "InHq_1lhX5TI"
      },
      "source": [
        "# Week 11 - Recitation - Regression discontinuity\n",
        "\n",
        "author: Judith Abécassis and Élise Dumas.\n",
        "\n",
        "In this recitation, we will investigate the efficacy of academic probation by deriving the causal effect of putting students on academic probation on future year GPA score. The dataset we will use was taken from [this article](https://www.aeaweb.org/articles?id=10.1257/app.2.2.95)."
      ]
    },
    {
      "cell_type": "code",
      "execution_count": null,
      "metadata": {
        "id": "t36JeHydXxen"
      },
      "outputs": [],
      "source": [
        "import pandas as pd\n",
        "import numpy as np\n",
        "import seaborn as sns\n",
        "import matplotlib.pyplot as plt\n",
        "import scipy.stats as sps\n",
        "import warnings\n",
        "import statsmodels.formula.api as smf\n",
        "\n",
        "warnings.filterwarnings(action='once')\n",
        "rg = np.random.default_rng(2907)\n",
        "\n",
        "sns.set_context('poster')"
      ]
    },
    {
      "cell_type": "markdown",
      "metadata": {
        "id": "sD3V9prm0g1A"
      },
      "source": [
        "# Exercise 1: checking the assumptions"
      ]
    },
    {
      "cell_type": "code",
      "execution_count": null,
      "metadata": {
        "colab": {
          "base_uri": "https://localhost:8080/",
          "height": 300
        },
        "id": "cNEz8-hnX7dP",
        "outputId": "ab0827d9-e8d2-4081-fda0-a7080f5258b9"
      },
      "outputs": [
        {
          "output_type": "execute_result",
          "data": {
            "text/plain": [
              "       probation_year1  dist_from_cut_year1  dist_from_cut_year2\n",
              "count     40363.000000         40363.000000         40363.000000\n",
              "mean          0.141664             0.966792            -0.472424\n",
              "std           0.348710             0.863218             0.923109\n",
              "min           0.000000            -1.600000            -3.200000\n",
              "25%           0.000000             0.390000            -1.000000\n",
              "50%           0.000000             1.030000            -0.340000\n",
              "75%           0.000000             1.610000             0.220000\n",
              "max           1.000000             2.800000             1.300000"
            ],
            "text/html": [
              "\n",
              "  <div id=\"df-ddcd6df6-1a81-4e75-85e4-64ed00a12e8a\">\n",
              "    <div class=\"colab-df-container\">\n",
              "      <div>\n",
              "<style scoped>\n",
              "    .dataframe tbody tr th:only-of-type {\n",
              "        vertical-align: middle;\n",
              "    }\n",
              "\n",
              "    .dataframe tbody tr th {\n",
              "        vertical-align: top;\n",
              "    }\n",
              "\n",
              "    .dataframe thead th {\n",
              "        text-align: right;\n",
              "    }\n",
              "</style>\n",
              "<table border=\"1\" class=\"dataframe\">\n",
              "  <thead>\n",
              "    <tr style=\"text-align: right;\">\n",
              "      <th></th>\n",
              "      <th>probation_year1</th>\n",
              "      <th>dist_from_cut_year1</th>\n",
              "      <th>dist_from_cut_year2</th>\n",
              "    </tr>\n",
              "  </thead>\n",
              "  <tbody>\n",
              "    <tr>\n",
              "      <th>count</th>\n",
              "      <td>40363.000000</td>\n",
              "      <td>40363.000000</td>\n",
              "      <td>40363.000000</td>\n",
              "    </tr>\n",
              "    <tr>\n",
              "      <th>mean</th>\n",
              "      <td>0.141664</td>\n",
              "      <td>0.966792</td>\n",
              "      <td>-0.472424</td>\n",
              "    </tr>\n",
              "    <tr>\n",
              "      <th>std</th>\n",
              "      <td>0.348710</td>\n",
              "      <td>0.863218</td>\n",
              "      <td>0.923109</td>\n",
              "    </tr>\n",
              "    <tr>\n",
              "      <th>min</th>\n",
              "      <td>0.000000</td>\n",
              "      <td>-1.600000</td>\n",
              "      <td>-3.200000</td>\n",
              "    </tr>\n",
              "    <tr>\n",
              "      <th>25%</th>\n",
              "      <td>0.000000</td>\n",
              "      <td>0.390000</td>\n",
              "      <td>-1.000000</td>\n",
              "    </tr>\n",
              "    <tr>\n",
              "      <th>50%</th>\n",
              "      <td>0.000000</td>\n",
              "      <td>1.030000</td>\n",
              "      <td>-0.340000</td>\n",
              "    </tr>\n",
              "    <tr>\n",
              "      <th>75%</th>\n",
              "      <td>0.000000</td>\n",
              "      <td>1.610000</td>\n",
              "      <td>0.220000</td>\n",
              "    </tr>\n",
              "    <tr>\n",
              "      <th>max</th>\n",
              "      <td>1.000000</td>\n",
              "      <td>2.800000</td>\n",
              "      <td>1.300000</td>\n",
              "    </tr>\n",
              "  </tbody>\n",
              "</table>\n",
              "</div>\n",
              "      <button class=\"colab-df-convert\" onclick=\"convertToInteractive('df-ddcd6df6-1a81-4e75-85e4-64ed00a12e8a')\"\n",
              "              title=\"Convert this dataframe to an interactive table.\"\n",
              "              style=\"display:none;\">\n",
              "        \n",
              "  <svg xmlns=\"http://www.w3.org/2000/svg\" height=\"24px\"viewBox=\"0 0 24 24\"\n",
              "       width=\"24px\">\n",
              "    <path d=\"M0 0h24v24H0V0z\" fill=\"none\"/>\n",
              "    <path d=\"M18.56 5.44l.94 2.06.94-2.06 2.06-.94-2.06-.94-.94-2.06-.94 2.06-2.06.94zm-11 1L8.5 8.5l.94-2.06 2.06-.94-2.06-.94L8.5 2.5l-.94 2.06-2.06.94zm10 10l.94 2.06.94-2.06 2.06-.94-2.06-.94-.94-2.06-.94 2.06-2.06.94z\"/><path d=\"M17.41 7.96l-1.37-1.37c-.4-.4-.92-.59-1.43-.59-.52 0-1.04.2-1.43.59L10.3 9.45l-7.72 7.72c-.78.78-.78 2.05 0 2.83L4 21.41c.39.39.9.59 1.41.59.51 0 1.02-.2 1.41-.59l7.78-7.78 2.81-2.81c.8-.78.8-2.07 0-2.86zM5.41 20L4 18.59l7.72-7.72 1.47 1.35L5.41 20z\"/>\n",
              "  </svg>\n",
              "      </button>\n",
              "      \n",
              "  <style>\n",
              "    .colab-df-container {\n",
              "      display:flex;\n",
              "      flex-wrap:wrap;\n",
              "      gap: 12px;\n",
              "    }\n",
              "\n",
              "    .colab-df-convert {\n",
              "      background-color: #E8F0FE;\n",
              "      border: none;\n",
              "      border-radius: 50%;\n",
              "      cursor: pointer;\n",
              "      display: none;\n",
              "      fill: #1967D2;\n",
              "      height: 32px;\n",
              "      padding: 0 0 0 0;\n",
              "      width: 32px;\n",
              "    }\n",
              "\n",
              "    .colab-df-convert:hover {\n",
              "      background-color: #E2EBFA;\n",
              "      box-shadow: 0px 1px 2px rgba(60, 64, 67, 0.3), 0px 1px 3px 1px rgba(60, 64, 67, 0.15);\n",
              "      fill: #174EA6;\n",
              "    }\n",
              "\n",
              "    [theme=dark] .colab-df-convert {\n",
              "      background-color: #3B4455;\n",
              "      fill: #D2E3FC;\n",
              "    }\n",
              "\n",
              "    [theme=dark] .colab-df-convert:hover {\n",
              "      background-color: #434B5C;\n",
              "      box-shadow: 0px 1px 3px 1px rgba(0, 0, 0, 0.15);\n",
              "      filter: drop-shadow(0px 1px 2px rgba(0, 0, 0, 0.3));\n",
              "      fill: #FFFFFF;\n",
              "    }\n",
              "  </style>\n",
              "\n",
              "      <script>\n",
              "        const buttonEl =\n",
              "          document.querySelector('#df-ddcd6df6-1a81-4e75-85e4-64ed00a12e8a button.colab-df-convert');\n",
              "        buttonEl.style.display =\n",
              "          google.colab.kernel.accessAllowed ? 'block' : 'none';\n",
              "\n",
              "        async function convertToInteractive(key) {\n",
              "          const element = document.querySelector('#df-ddcd6df6-1a81-4e75-85e4-64ed00a12e8a');\n",
              "          const dataTable =\n",
              "            await google.colab.kernel.invokeFunction('convertToInteractive',\n",
              "                                                     [key], {});\n",
              "          if (!dataTable) return;\n",
              "\n",
              "          const docLinkHtml = 'Like what you see? Visit the ' +\n",
              "            '<a target=\"_blank\" href=https://colab.research.google.com/notebooks/data_table.ipynb>data table notebook</a>'\n",
              "            + ' to learn more about interactive tables.';\n",
              "          element.innerHTML = '';\n",
              "          dataTable['output_type'] = 'display_data';\n",
              "          await google.colab.output.renderOutput(dataTable, element);\n",
              "          const docLink = document.createElement('div');\n",
              "          docLink.innerHTML = docLinkHtml;\n",
              "          element.appendChild(docLink);\n",
              "        }\n",
              "      </script>\n",
              "    </div>\n",
              "  </div>\n",
              "  "
            ]
          },
          "metadata": {},
          "execution_count": 2
        }
      ],
      "source": [
        "#Load dataset\n",
        "df = pd.read_csv(\"/content/data_week11.csv\")\n",
        "df.describe()"
      ]
    },
    {
      "cell_type": "markdown",
      "metadata": {
        "id": "MMdtFcBI0g1B"
      },
      "source": [
        " Here is the list of available variables : \n",
        " \n",
        " `probation_year1`          indicator for whether a student was put in probation at the end of year 1, 1:yes, 0:no\n",
        "  \n",
        " `dist_from_cut_year1`      student GPA for year 1 minus threshold to be put in probation (which may depend on the college he/she attended)\n",
        " \n",
        " `dist_from_cut_year2`      student GPA for year 2 minus threshold to be put in probation (which may depend on the college he/she attended)\n",
        "                    "
      ]
    },
    {
      "cell_type": "markdown",
      "metadata": {
        "id": "l9beoJf50g1B"
      },
      "source": [
        "### 1. What are the units? What is the treatment? The outcome?"
      ]
    },
    {
      "cell_type": "markdown",
      "metadata": {
        "id": "Y2AadJIb0g1C"
      },
      "source": [
        "**Answer**\n",
        "\n",
        "Units are students. Treatment is probation_year1 (1 if student was put in probation, 0 otherwise). Outcome is dist_from_cut_year2."
      ]
    },
    {
      "cell_type": "markdown",
      "metadata": {
        "id": "sR6lPdSd0g1C"
      },
      "source": [
        "### 2. Why is this dataset suited for RDD? What is the continuous variable you should use (running variable)? What is the cut-point value?"
      ]
    },
    {
      "cell_type": "markdown",
      "metadata": {
        "id": "0wOWxRHB0g1D"
      },
      "source": [
        "**Answer**\n",
        "\n",
        "Treatment assignment depends on a sharp threshold for GPA and we may assume that students just below this threshold and students just above this threshold are similar on all points apart from the probation status. The continuous variable we should use is dist_from_cut_year1. Discontinuity should occur at value zero."
      ]
    },
    {
      "cell_type": "markdown",
      "metadata": {
        "id": "7F0rmv_I0g1D"
      },
      "source": [
        "### 3. Let's check for RDD assumptions. Discuss Sharp RD, continuous potential outcomes and SUTVA."
      ]
    },
    {
      "cell_type": "markdown",
      "metadata": {
        "id": "OUoDOw6X0g1D"
      },
      "source": [
        "**Answer**\n",
        "\n",
        "Sharp RD : satisfied since being in probation is strictly equivalent to having a GPA below a certain threshold.\n",
        "\n",
        "Continuous potential outcomes : it is reasonable to assume that students very close to the GPA threshold are very similar with each other, apart from the fact that students below the threshold are under probation and students above the threshold are not under probation.\n",
        "\n",
        "SUTVA : it is reasonable to think that the \"no interference\" part holds, (the fact that another student was in probation will not change my personal GPA for the second year). The assumption that there is only one version of treatment is less likely to be true (probation can take different forms depending on the degree of help proposed to students)."
      ]
    },
    {
      "cell_type": "markdown",
      "metadata": {
        "id": "qFMixpUN0g1E"
      },
      "source": [
        "For the rest of the recitation, we will assume all the assumptions discussed above."
      ]
    },
    {
      "cell_type": "markdown",
      "metadata": {
        "id": "lkMkNMiK0g1E"
      },
      "source": [
        "# Exercise 2 : A visual look at the discontinuity"
      ]
    },
    {
      "cell_type": "markdown",
      "metadata": {
        "id": "VCBRrkUt0g1E"
      },
      "source": [
        "### 1. Plot the distribution of the outcome with respect to the continuous variable of interest. Draw a vertical line at the point where the discontinuity should arise. What do you see?"
      ]
    },
    {
      "cell_type": "code",
      "execution_count": null,
      "metadata": {
        "colab": {
          "base_uri": "https://localhost:8080/",
          "height": 355
        },
        "id": "l9j8e1X20g1F",
        "outputId": "5ff15bfc-d5f1-49ad-ef2b-dc13af7a9370"
      },
      "outputs": [
        {
          "output_type": "execute_result",
          "data": {
            "text/plain": [
              "Text(0, 0.5, 'Second year GPA')"
            ]
          },
          "metadata": {},
          "execution_count": 3
        },
        {
          "output_type": "display_data",
          "data": {
            "text/plain": [
              "<Figure size 432x288 with 1 Axes>"
            ],
            "image/png": "[encoded data removed]"
          },
          "metadata": {
            "needs_background": "light"
          }
        }
      ],
      "source": [
        "#Points\n",
        "plt.scatter(x=df.dist_from_cut_year1, y=df.dist_from_cut_year2, s = 2)\n",
        "#Vertical line\n",
        "plt.vlines(x = 0, ymin = min(df.dist_from_cut_year2), ymax = max(df.dist_from_cut_year2), color = \"red\", linestyles = 'dashed')\n",
        "#Pimp the plot\n",
        "plt.title(\"Distribution of the outcome with\\nrespect to the continuous variable\", fontsize=15)\n",
        "plt.xlabel(\"First year GPA\", fontsize=15)\n",
        "plt.ylabel(\"Second year GPA\", fontsize=15)"
      ]
    },
    {
      "cell_type": "markdown",
      "metadata": {
        "id": "e8j0z7_J0g1F"
      },
      "source": [
        "**Answer**\n",
        "\n",
        "Data is very noisy, we cannot see much (except that there seems to exist a positive correlation between the GPA of the first year and the GPA of the second year)."
      ]
    },
    {
      "cell_type": "markdown",
      "metadata": {
        "id": "HFE0J45r0g1F"
      },
      "source": [
        "### 2. Let's try to summarise the data to have a clearer overview. Instead of plotting all individual points, we cut the first year GPA into 100 intervals and aggregate all points inside the intervals into a single point whose second year GPA value is the mean for all units inside the interval."
      ]
    },
    {
      "cell_type": "code",
      "execution_count": null,
      "metadata": {
        "colab": {
          "base_uri": "https://localhost:8080/",
          "height": 206
        },
        "id": "XdZnZd-a0g1F",
        "outputId": "1e33aa16-5fc9-4e89-fee0-d963b4e93f5d"
      },
      "outputs": [
        {
          "output_type": "execute_result",
          "data": {
            "text/plain": [
              "   dist_from_cut_year2 closest_point\n",
              "0            -1.200000     -1.577778\n",
              "1            -2.665000     -1.533333\n",
              "2            -2.156566     -1.488889\n",
              "3            -2.321765     -1.444444\n",
              "4            -2.224737     -1.400000"
            ],
            "text/html": [
              "\n",
              "  <div id=\"df-77b35c5f-83ac-41c1-a7c9-125d62159640\">\n",
              "    <div class=\"colab-df-container\">\n",
              "      <div>\n",
              "<style scoped>\n",
              "    .dataframe tbody tr th:only-of-type {\n",
              "        vertical-align: middle;\n",
              "    }\n",
              "\n",
              "    .dataframe tbody tr th {\n",
              "        vertical-align: top;\n",
              "    }\n",
              "\n",
              "    .dataframe thead th {\n",
              "        text-align: right;\n",
              "    }\n",
              "</style>\n",
              "<table border=\"1\" class=\"dataframe\">\n",
              "  <thead>\n",
              "    <tr style=\"text-align: right;\">\n",
              "      <th></th>\n",
              "      <th>dist_from_cut_year2</th>\n",
              "      <th>closest_point</th>\n",
              "    </tr>\n",
              "  </thead>\n",
              "  <tbody>\n",
              "    <tr>\n",
              "      <th>0</th>\n",
              "      <td>-1.200000</td>\n",
              "      <td>-1.577778</td>\n",
              "    </tr>\n",
              "    <tr>\n",
              "      <th>1</th>\n",
              "      <td>-2.665000</td>\n",
              "      <td>-1.533333</td>\n",
              "    </tr>\n",
              "    <tr>\n",
              "      <th>2</th>\n",
              "      <td>-2.156566</td>\n",
              "      <td>-1.488889</td>\n",
              "    </tr>\n",
              "    <tr>\n",
              "      <th>3</th>\n",
              "      <td>-2.321765</td>\n",
              "      <td>-1.444444</td>\n",
              "    </tr>\n",
              "    <tr>\n",
              "      <th>4</th>\n",
              "      <td>-2.224737</td>\n",
              "      <td>-1.400000</td>\n",
              "    </tr>\n",
              "  </tbody>\n",
              "</table>\n",
              "</div>\n",
              "      <button class=\"colab-df-convert\" onclick=\"convertToInteractive('df-77b35c5f-83ac-41c1-a7c9-125d62159640')\"\n",
              "              title=\"Convert this dataframe to an interactive table.\"\n",
              "              style=\"display:none;\">\n",
              "        \n",
              "  <svg xmlns=\"http://www.w3.org/2000/svg\" height=\"24px\"viewBox=\"0 0 24 24\"\n",
              "       width=\"24px\">\n",
              "    <path d=\"M0 0h24v24H0V0z\" fill=\"none\"/>\n",
              "    <path d=\"M18.56 5.44l.94 2.06.94-2.06 2.06-.94-2.06-.94-.94-2.06-.94 2.06-2.06.94zm-11 1L8.5 8.5l.94-2.06 2.06-.94-2.06-.94L8.5 2.5l-.94 2.06-2.06.94zm10 10l.94 2.06.94-2.06 2.06-.94-2.06-.94-.94-2.06-.94 2.06-2.06.94z\"/><path d=\"M17.41 7.96l-1.37-1.37c-.4-.4-.92-.59-1.43-.59-.52 0-1.04.2-1.43.59L10.3 9.45l-7.72 7.72c-.78.78-.78 2.05 0 2.83L4 21.41c.39.39.9.59 1.41.59.51 0 1.02-.2 1.41-.59l7.78-7.78 2.81-2.81c.8-.78.8-2.07 0-2.86zM5.41 20L4 18.59l7.72-7.72 1.47 1.35L5.41 20z\"/>\n",
              "  </svg>\n",
              "      </button>\n",
              "      \n",
              "  <style>\n",
              "    .colab-df-container {\n",
              "      display:flex;\n",
              "      flex-wrap:wrap;\n",
              "      gap: 12px;\n",
              "    }\n",
              "\n",
              "    .colab-df-convert {\n",
              "      background-color: #E8F0FE;\n",
              "      border: none;\n",
              "      border-radius: 50%;\n",
              "      cursor: pointer;\n",
              "      display: none;\n",
              "      fill: #1967D2;\n",
              "      height: 32px;\n",
              "      padding: 0 0 0 0;\n",
              "      width: 32px;\n",
              "    }\n",
              "\n",
              "    .colab-df-convert:hover {\n",
              "      background-color: #E2EBFA;\n",
              "      box-shadow: 0px 1px 2px rgba(60, 64, 67, 0.3), 0px 1px 3px 1px rgba(60, 64, 67, 0.15);\n",
              "      fill: #174EA6;\n",
              "    }\n",
              "\n",
              "    [theme=dark] .colab-df-convert {\n",
              "      background-color: #3B4455;\n",
              "      fill: #D2E3FC;\n",
              "    }\n",
              "\n",
              "    [theme=dark] .colab-df-convert:hover {\n",
              "      background-color: #434B5C;\n",
              "      box-shadow: 0px 1px 3px 1px rgba(0, 0, 0, 0.15);\n",
              "      filter: drop-shadow(0px 1px 2px rgba(0, 0, 0, 0.3));\n",
              "      fill: #FFFFFF;\n",
              "    }\n",
              "  </style>\n",
              "\n",
              "      <script>\n",
              "        const buttonEl =\n",
              "          document.querySelector('#df-77b35c5f-83ac-41c1-a7c9-125d62159640 button.colab-df-convert');\n",
              "        buttonEl.style.display =\n",
              "          google.colab.kernel.accessAllowed ? 'block' : 'none';\n",
              "\n",
              "        async function convertToInteractive(key) {\n",
              "          const element = document.querySelector('#df-77b35c5f-83ac-41c1-a7c9-125d62159640');\n",
              "          const dataTable =\n",
              "            await google.colab.kernel.invokeFunction('convertToInteractive',\n",
              "                                                     [key], {});\n",
              "          if (!dataTable) return;\n",
              "\n",
              "          const docLinkHtml = 'Like what you see? Visit the ' +\n",
              "            '<a target=\"_blank\" href=https://colab.research.google.com/notebooks/data_table.ipynb>data table notebook</a>'\n",
              "            + ' to learn more about interactive tables.';\n",
              "          element.innerHTML = '';\n",
              "          dataTable['output_type'] = 'display_data';\n",
              "          await google.colab.output.renderOutput(dataTable, element);\n",
              "          const docLink = document.createElement('div');\n",
              "          docLink.innerHTML = docLinkHtml;\n",
              "          element.appendChild(docLink);\n",
              "        }\n",
              "      </script>\n",
              "    </div>\n",
              "  </div>\n",
              "  "
            ]
          },
          "metadata": {},
          "execution_count": 5
        }
      ],
      "source": [
        "# First, we create 100 intervals of same width, starting from the minimum of the first year GPA and ending at the maximum of the second year GPA.\n",
        "intervals = np.linspace(start = min(df.dist_from_cut_year1),\n",
        "                        stop = max(df.dist_from_cut_year1),\n",
        "                        num = 100)\n",
        "\n",
        "# The label of each interval is the middle point of each interval \n",
        "labels = (intervals[1:] + intervals[:(len(intervals)-1)])/2 #Middle points\n",
        "\n",
        "# We assign each point to the good interval\n",
        "df = df.assign(closest_point = pd.cut(df.dist_from_cut_year1, \n",
        "                                     bins = intervals,\n",
        "                                     labels = labels))\n",
        "\n",
        "# Group by closest point and take the mean of the second year GPA\n",
        "df_agg = df.groupby('closest_point').agg({'dist_from_cut_year2': 'mean',\n",
        "                                          'closest_point' : 'first'}).reset_index(0, drop=True)\n",
        "\n",
        "#Check the results\n",
        "df_agg.head()"
      ]
    },
    {
      "cell_type": "markdown",
      "metadata": {
        "id": "CM0-s8Tf0g1G"
      },
      "source": [
        "### 3. Re-run your code of question 1 on the aggregated dataset. What do you see now? "
      ]
    },
    {
      "cell_type": "code",
      "execution_count": null,
      "metadata": {
        "colab": {
          "base_uri": "https://localhost:8080/",
          "height": 373
        },
        "id": "ljPfA2kK0g1G",
        "outputId": "ae83e108-a000-49ed-c6a8-ad0ab01ff2cc"
      },
      "outputs": [
        {
          "output_type": "execute_result",
          "data": {
            "text/plain": [
              "Text(0, 0.5, 'Second year GPA')"
            ]
          },
          "metadata": {},
          "execution_count": 6
        },
        {
          "output_type": "display_data",
          "data": {
            "text/plain": [
              "<Figure size 432x288 with 1 Axes>"
            ],
            "image/png": "[encoded data removed]"
          },
          "metadata": {
            "needs_background": "light"
          }
        }
      ],
      "source": [
        "#Points\n",
        "plt.scatter(x=df_agg.closest_point, y=df_agg.dist_from_cut_year2, s = 10)\n",
        "#Vertical line\n",
        "plt.vlines(x = 0,\n",
        "           ymin = min(df_agg.dist_from_cut_year2),\n",
        "           ymax = max(df_agg.dist_from_cut_year2),\n",
        "           color = \"red\",\n",
        "           linestyles = 'dashed')\n",
        "#Pim the plot\n",
        "plt.title(\"Distribution of the outcome with\\nrespect to the continuous variable \\n on aggregated data\", fontsize=15)\n",
        "plt.xlabel(\"First year GPA\", fontsize=15)\n",
        "plt.ylabel(\"Second year GPA\", fontsize=15)"
      ]
    },
    {
      "cell_type": "markdown",
      "metadata": {
        "id": "-euI7t5-0g1H"
      },
      "source": [
        "**Asnwer**\n",
        "\n",
        "We now observe a clear discontinuity in the outcome at the cut-off value."
      ]
    },
    {
      "cell_type": "markdown",
      "metadata": {
        "id": "dYAUv2SH0g1H"
      },
      "source": [
        "# Exercise 3 : A very simple non-parametric estimate"
      ]
    },
    {
      "cell_type": "markdown",
      "metadata": {
        "id": "Agcx3d1Y0g1H"
      },
      "source": [
        "In this exercice, we will implement a very simple non-parametric method to estimate to Local Average Treatment Effect (LATE) at the discontinuity point. It consists in restricting the dataset to the points close to the cut-off value, and compute the difference-in-means among treated and untreated patients."
      ]
    },
    {
      "cell_type": "markdown",
      "metadata": {
        "id": "574UahVE0g1H"
      },
      "source": [
        "### 1. Fill the LATE function to compute the difference in means around the discontinuity point"
      ]
    },
    {
      "cell_type": "code",
      "execution_count": null,
      "metadata": {
        "id": "vMEHKE-V0g1H"
      },
      "outputs": [],
      "source": [
        "##The function late_estimate computes the difference in means around the discontinuity point.\n",
        "##df : the dataframe\n",
        "##largest_diff : the maximum authorized distance to the cut-off point\n",
        "\n",
        "def late_estimate(df, largest_diff):\n",
        "    \n",
        "    #Restrict the dataset to points within the distance threshold (lower or equal)\n",
        "    df_close = df[abs(df.dist_from_cut_year1) <= largest_diff]\n",
        "    print(f\"The length of the filtered dataset is {df_close.shape[0]}.\")\n",
        "    \n",
        "    #Mean in the treated\n",
        "    mean_treated = np.mean(df_close.dist_from_cut_year2[df_close.probation_year1 == 1])\n",
        "    \n",
        "    #Mean in the control\n",
        "    mean_control = np.mean(df_close.dist_from_cut_year2[df_close.probation_year1 == 0])    \n",
        "    \n",
        "    #Local ATE estimate\n",
        "    late = mean_treated - mean_control\n",
        "    return(late)\n"
      ]
    },
    {
      "cell_type": "markdown",
      "metadata": {
        "id": "3YJ1AAfZ0g1I"
      },
      "source": [
        "### 2. Manually test your function for difference value of the distance threshold. What do you see? "
      ]
    },
    {
      "cell_type": "code",
      "execution_count": null,
      "metadata": {
        "colab": {
          "base_uri": "https://localhost:8080/"
        },
        "id": "2R3lIN1X0g1I",
        "outputId": "8d308970-41e4-47ee-faca-41fb09ee19b7"
      },
      "outputs": [
        {
          "output_type": "stream",
          "name": "stdout",
          "text": [
            "The length of the filtered dataset is 326.\n",
            "LATE estimate is 0.204.\n"
          ]
        }
      ],
      "source": [
        "largest_diff = 0.02\n",
        "late = late_estimate(df, largest_diff)\n",
        "print(f\"LATE estimate is {late.round(3)}.\")"
      ]
    },
    {
      "cell_type": "markdown",
      "metadata": {
        "id": "5GUFbv5T0g1I"
      },
      "source": [
        "**Answer** \n",
        "\n",
        "The larger the threshold the larger the number of units included in the dataset; the lower the variance of the estimate, but the higher the bias. When considering threshold below 0.025, we seem to obtain a value close to 0.20-0.25 for the LATE. It suggests that on average putting the students into probation increases next year GPA."
      ]
    },
    {
      "cell_type": "markdown",
      "metadata": {
        "id": "vm87vLEl0g1I"
      },
      "source": [
        "# Exercise 4 : Local linear regression"
      ]
    },
    {
      "cell_type": "markdown",
      "metadata": {
        "id": "2VYcRnY10g1I"
      },
      "source": [
        "In this exercice we will implement the local linear regression algorithm that we saw in class (using a single regression with an interaction term)."
      ]
    },
    {
      "cell_type": "markdown",
      "metadata": {
        "id": "tU0iohtd0g1I"
      },
      "source": [
        "### 1. Fill the local_linear_estimator function."
      ]
    },
    {
      "cell_type": "code",
      "execution_count": null,
      "metadata": {
        "id": "R6sD6Kum0g1I"
      },
      "outputs": [],
      "source": [
        "## The function local_linear_estimator :\n",
        "## 1. Fits a linear model regressing the outcome on the treatment, the running variable, and the interaction \n",
        "# between the treatment and the running variable on a given dataset df.\n",
        "## 2. Plots the output of the model on the aggregated dataset\n",
        "## 3. Returns the coefficient for the treatment in the linear regression, and its confidence interval.\n",
        "\n",
        "## df : the dataframe\n",
        "## df_agg : the aggregated dataframe (for the plot)\n",
        "## threshold : the value of threshold (to add vertical dotted lines suggesting the bandwidth on the plot). If None (default): no dotted line is plotted.\n",
        "## plot : binary indicator whether the function should display the plot or not. Default is true.\n",
        "\n",
        "def local_linear_estimator(df,df_agg, threshold = None, plot = True):\n",
        "       \n",
        "    #Linear model\n",
        "    model = smf.wls(\"dist_from_cut_year2~dist_from_cut_year1*probation_year1\", df)\n",
        "    model_fit = model.fit()\n",
        "\n",
        "    if(plot):\n",
        "        #Prepare aggregated data by adding the value of the model.\n",
        "        df_agg.closest_point = df_agg.closest_point.astype('float')\n",
        "        df_agg = df_agg.assign(probation_year1= np.where(df_agg.closest_point < 0, 1, 0))\n",
        "        df_agg = df_agg.assign(dist_from_cut_year1 = df_agg.closest_point)\n",
        "        df_agg = df_agg.assign(model_prediction = model_fit.predict(df_agg))\n",
        "\n",
        "        #Plot\n",
        "        plt.scatter(x = df_agg.closest_point, y= df_agg.dist_from_cut_year2)\n",
        "        plt.scatter(x = df_agg.closest_point, y= df_agg.model_prediction, color = \"red\", s =10)\n",
        "        #Add line to show bandwidth\n",
        "        if(threshold):\n",
        "          plt.vlines(x = -threshold, ymin = min(df_agg.dist_from_cut_year2), ymax = max(df_agg.dist_from_cut_year2), color = \"red\", linestyles = 'dashed')\n",
        "          plt.vlines(x = +threshold, ymin = min(df_agg.dist_from_cut_year2), ymax = max(df_agg.dist_from_cut_year2), color = \"red\", linestyles = 'dashed')\n",
        "\n",
        "    #Extract value of the coefficient and the confidence interval\n",
        "    coeff = model_fit.params['probation_year1']\n",
        "    ci_low = model_fit.conf_int()[0]['probation_year1']\n",
        "    ci_high = model_fit.conf_int()[1]['probation_year1']\n",
        "\n",
        "    return(coeff, ci_low, ci_high)"
      ]
    },
    {
      "cell_type": "markdown",
      "metadata": {
        "id": "bWdc0AWb0g1J"
      },
      "source": [
        "### 2. Run your function on the whole dataset. What do you conclude?"
      ]
    },
    {
      "cell_type": "code",
      "execution_count": null,
      "metadata": {
        "colab": {
          "base_uri": "https://localhost:8080/",
          "height": 301
        },
        "id": "NN0rlzh40g1J",
        "outputId": "baf5d09c-3700-40ab-9e6d-0b75fff1220f"
      },
      "outputs": [
        {
          "output_type": "stream",
          "name": "stdout",
          "text": [
            "Estimate for LATE : 0.317; CI = [0.284,0.35]\n"
          ]
        },
        {
          "output_type": "display_data",
          "data": {
            "text/plain": [
              "<Figure size 432x288 with 1 Axes>"
            ],
            "image/png": "[encoded data removed]"
          },
          "metadata": {
            "needs_background": "light"
          }
        }
      ],
      "source": [
        "estimate = local_linear_estimator(df,df_agg, plot = True)\n",
        "print(f\"Estimate for LATE : {estimate[0].round(3)}; CI = [{estimate[1].round(3)},{estimate[2].round(3)}]\")"
      ]
    },
    {
      "cell_type": "markdown",
      "metadata": {
        "id": "6P2lwoMM0g1J"
      },
      "source": [
        "**Answer** \n",
        "\n",
        "The model seems to fit properly the data for the points close to the discontinuity (but not much for further points).\n",
        "We get an estimate for LATE of 0.317, significant at 5\\% threshold (CI does not contain zero)."
      ]
    },
    {
      "cell_type": "markdown",
      "metadata": {
        "id": "rz0pHv0A0g1J"
      },
      "source": [
        "### 3. Manually test your function on the dataset restricted to the points closer to the discontinuity cut-off. What are your impressions?"
      ]
    },
    {
      "cell_type": "code",
      "execution_count": null,
      "metadata": {
        "colab": {
          "base_uri": "https://localhost:8080/",
          "height": 301
        },
        "id": "izKVkyl40g1J",
        "outputId": "ea03753a-a540-4355-8d7a-2b0122af7944"
      },
      "outputs": [
        {
          "output_type": "execute_result",
          "data": {
            "text/plain": [
              "(0.16838316952477603, -0.012323784658576697, 0.34909012370812875)"
            ]
          },
          "metadata": {},
          "execution_count": 18
        },
        {
          "output_type": "display_data",
          "data": {
            "text/plain": [
              "<Figure size 432x288 with 1 Axes>"
            ],
            "image/png": "[encoded data removed]"
          },
          "metadata": {
            "needs_background": "light"
          }
        }
      ],
      "source": [
        "#Test for several thresholds of your choice\n",
        "threshold = 0.1\n",
        "\n",
        "df2 = df[abs(df.dist_from_cut_year1) < threshold]\n",
        "local_linear_estimator(df2,df_agg,threshold, plot = True)"
      ]
    },
    {
      "cell_type": "markdown",
      "metadata": {
        "id": "oRlA2f8w0g1K"
      },
      "source": [
        "**Answer**\n",
        "\n",
        "If we use a large threshold, we get a robust model, but whose difference at the cut-off point may not reflect the local behavior around the discontinuity point, and bias the estimate if there is some treatment heterogeneity). If we use a small threshold, our model is fitted on a small number of points and may not be robust (indeed we observe some diverging effects, you can try threshold = 0.01; 0.02; 0.03 for instance)."
      ]
    },
    {
      "cell_type": "markdown",
      "metadata": {
        "id": "F8GBESec0g1K"
      },
      "source": [
        "### 4. Collect the LATE estimate, and confidence interval boundaries for several threshold values and plot the estimate and the confidence interval with respect to the threshold. What do you see?"
      ]
    },
    {
      "cell_type": "code",
      "execution_count": null,
      "metadata": {
        "id": "5gZuyGlR0g1K"
      },
      "outputs": [],
      "source": [
        "#Set a list of thresholds\n",
        "threshold_to_test = np.linspace(0.01, 0.5, 50)\n",
        "\n",
        "#Create empty arrays to store the values of LATE estimate, lower boundary of confidence interval\n",
        "#and upper boundary of confidence interval.\n",
        "late_tot = []\n",
        "conf_low_tot = []\n",
        "conf_high_tot = []\n",
        "\n",
        "#Run your function to estimate LATE and CI for all thresholds \n",
        "for threshold in threshold_to_test:\n",
        "    #Restrict dataset\n",
        "    df2 = df[abs(df.dist_from_cut_year1) < threshold]\n",
        "    #Run the function\n",
        "    res = local_linear_estimator(df2,df_agg, plot = False)\n",
        "    #Store the results\n",
        "    late_tot.append(res[0])\n",
        "    conf_low_tot.append(res[1])\n",
        "    conf_high_tot.append(res[2])"
      ]
    },
    {
      "cell_type": "code",
      "execution_count": null,
      "metadata": {
        "colab": {
          "base_uri": "https://localhost:8080/",
          "height": 338
        },
        "id": "yRqfGRXZ0g1K",
        "outputId": "215d97ec-62c0-4d60-de9d-d51c26a640f0"
      },
      "outputs": [
        {
          "output_type": "execute_result",
          "data": {
            "text/plain": [
              "Text(0, 0.5, 'LATE estimate')"
            ]
          },
          "metadata": {},
          "execution_count": 20
        },
        {
          "output_type": "display_data",
          "data": {
            "text/plain": [
              "<Figure size 432x288 with 1 Axes>"
            ],
            "image/png": "[encoded data removed]"
          },
          "metadata": {
            "needs_background": "light"
          }
        }
      ],
      "source": [
        "#Plot LATE with respect to threshold (scatter plot)\n",
        "#Frame your LATE estimate with two lines : one for the lower boundary of the confidence interval and\n",
        "#one for the upper boundary of the confidence interval.\n",
        "\n",
        "plt.scatter(threshold_to_test,late_tot, s =15)\n",
        "plt.plot(threshold_to_test, conf_low_tot, color = 'red')\n",
        "plt.plot(threshold_to_test, conf_high_tot, color = 'red')\n",
        "plt.title(\"LATE estimate with respect to the used threshold\", fontsize = 15)\n",
        "plt.xlabel(\"Threshold\", fontsize = 15)\n",
        "plt.ylabel(\"LATE estimate\", fontsize = 15)"
      ]
    },
    {
      "cell_type": "markdown",
      "metadata": {
        "id": "-mTasO2z0g1K"
      },
      "source": [
        "**Answer**\n",
        "\n",
        "This plot is a very good illustration of the bias-variance trade-off! For small thresholds, the width of the confidence interval is large (the estimate is even non-significantly greater than zero). The confidence interval width gets smaller and smaller with the threshold increasing. Yet, for high thresholds, the estimate may be biased. "
      ]
    }
  ],
  "metadata": {
    "colab": {
      "provenance": [],
      "include_colab_link": true
    },
    "kernelspec": {
      "display_name": "Python 3 (ipykernel)",
      "language": "python",
      "name": "python3"
    },
    "language_info": {
      "codemirror_mode": {
        "name": "ipython",
        "version": 3
      },
      "file_extension": ".py",
      "mimetype": "text/x-python",
      "name": "python",
      "nbconvert_exporter": "python",
      "pygments_lexer": "ipython3",
      "version": "3.9.13"
    }
  },
  "nbformat": 4,
  "nbformat_minor": 0
}